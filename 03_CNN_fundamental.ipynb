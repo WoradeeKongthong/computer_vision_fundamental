{
 "cells": [
  {
   "cell_type": "markdown",
   "metadata": {
    "colab_type": "text",
    "id": "view-in-github"
   },
   "source": [
    "<a href=\"https://colab.research.google.com/github/WoradeeKongthong/ComputerVision/blob/master/CNN_fundamental.ipynb\" target=\"_parent\"><img src=\"https://colab.research.google.com/assets/colab-badge.svg\" alt=\"Open In Colab\"/></a>"
   ]
  },
  {
   "cell_type": "markdown",
   "metadata": {
    "colab_type": "text",
    "id": "iHpDtBAGlOUn"
   },
   "source": [
    "# 1D Convolutional Layer\n",
    "input dimension : [sample, length of sample, channel]"
   ]
  },
  {
   "cell_type": "code",
   "execution_count": 55,
   "metadata": {
    "colab": {},
    "colab_type": "code",
    "id": "2Qlv1JJ3QsFE"
   },
   "outputs": [],
   "source": [
    "import numpy as np\n",
    "from keras.models import Sequential\n",
    "from keras.layers import Conv1D, Dense\n",
    "import matplotlib.pyplot as plt"
   ]
  },
  {
   "cell_type": "code",
   "execution_count": 56,
   "metadata": {
    "colab": {
     "base_uri": "https://localhost:8080/",
     "height": 194
    },
    "colab_type": "code",
    "id": "Iwx1Dilrlize",
    "outputId": "d94bb156-0ec1-4908-f550-36ed7a6758ba"
   },
   "outputs": [
    {
     "name": "stdout",
     "output_type": "stream",
     "text": [
      "(8,)\n",
      "(1, 8, 1)\n",
      "[[[0]\n",
      "  [0]\n",
      "  [0]\n",
      "  [1]\n",
      "  [1]\n",
      "  [0]\n",
      "  [0]\n",
      "  [0]]]\n"
     ]
    }
   ],
   "source": [
    "# define input data\n",
    "data = np.asarray([0, 0, 0, 1, 1, 0, 0, 0])\n",
    "print(data.shape)\n",
    "\n",
    "# reshape to be Conv layer input\n",
    "data = data.reshape(1, len(data), 1)\n",
    "print(data.shape)\n",
    "print(data)"
   ]
  },
  {
   "cell_type": "code",
   "execution_count": 57,
   "metadata": {
    "colab": {
     "base_uri": "https://localhost:8080/",
     "height": 212
    },
    "colab_type": "code",
    "id": "gWEUDZaEnEZ9",
    "outputId": "caa495d2-3bf2-494d-ed0f-62b372af710c"
   },
   "outputs": [
    {
     "name": "stdout",
     "output_type": "stream",
     "text": [
      "input shape :  (None, 8, 1)\n",
      "Model: \"sequential_12\"\n",
      "_________________________________________________________________\n",
      "Layer (type)                 Output Shape              Param #   \n",
      "=================================================================\n",
      "conv1d_12 (Conv1D)           (None, 6, 1)              4         \n",
      "=================================================================\n",
      "Total params: 4\n",
      "Trainable params: 4\n",
      "Non-trainable params: 0\n",
      "_________________________________________________________________\n"
     ]
    }
   ],
   "source": [
    "# create simple model\n",
    "model = Sequential()\n",
    "model.add(Conv1D(filters=1, kernel_size=3, input_shape=(data.shape[1], data.shape[2])))\n",
    "print('input shape : ',model.input_shape)\n",
    "model.summary()"
   ]
  },
  {
   "cell_type": "code",
   "execution_count": 58,
   "metadata": {},
   "outputs": [
    {
     "name": "stdout",
     "output_type": "stream",
     "text": [
      "weight shape (3, 1, 1)\n",
      "bias shape (1,)\n",
      "\n",
      "[array([[[ 0.10971427]],\n",
      "\n",
      "       [[-0.63399243]],\n",
      "\n",
      "       [[ 0.38508558]]], dtype=float32), array([0.], dtype=float32)]\n"
     ]
    }
   ],
   "source": [
    "# check weight shape \n",
    "print(\"weight shape\", model.get_weights()[0].shape)\n",
    "print(\"bias shape\", model.get_weights()[1].shape)\n",
    "print()\n",
    "print(model.get_weights())"
   ]
  },
  {
   "cell_type": "code",
   "execution_count": 59,
   "metadata": {
    "colab": {
     "base_uri": "https://localhost:8080/",
     "height": 105
    },
    "colab_type": "code",
    "id": "zYzvc9pznobV",
    "outputId": "f9207ece-7f34-4741-9e9f-4bc84e0eb32b"
   },
   "outputs": [
    {
     "name": "stdout",
     "output_type": "stream",
     "text": [
      "2\n",
      "[array([[[0]],\n",
      "\n",
      "       [[1]],\n",
      "\n",
      "       [[0]]]), array([0.])]\n"
     ]
    }
   ],
   "source": [
    "# define a vertical line detector (list of weights array and bias array)\n",
    "detector = [np.asarray([[[0]],[[1]],[[0]]]), np.asarray([0.0])]\n",
    "print(len(detector))\n",
    "print(detector)"
   ]
  },
  {
   "cell_type": "code",
   "execution_count": 60,
   "metadata": {
    "colab": {
     "base_uri": "https://localhost:8080/",
     "height": 105
    },
    "colab_type": "code",
    "id": "QPiEEJ6SoUxo",
    "outputId": "2c4fd484-f15b-4919-fcdf-feeb9b7c76bc"
   },
   "outputs": [
    {
     "name": "stdout",
     "output_type": "stream",
     "text": [
      "[array([[[0.]],\n",
      "\n",
      "       [[1.]],\n",
      "\n",
      "       [[0.]]], dtype=float32), array([0.], dtype=float32)]\n"
     ]
    }
   ],
   "source": [
    "# store the detector as weights of the model\n",
    "model.set_weights(detector)\n",
    "print(model.get_weights())"
   ]
  },
  {
   "cell_type": "code",
   "execution_count": 61,
   "metadata": {
    "colab": {
     "base_uri": "https://localhost:8080/",
     "height": 141
    },
    "colab_type": "code",
    "id": "XwErRz01otzx",
    "outputId": "5c3a5fb6-2865-4029-d21f-5ebea1ae6b16"
   },
   "outputs": [
    {
     "name": "stdout",
     "output_type": "stream",
     "text": [
      "[[[0.]\n",
      "  [0.]\n",
      "  [1.]\n",
      "  [1.]\n",
      "  [0.]\n",
      "  [0.]]]\n",
      "(1, 6, 1)\n"
     ]
    }
   ],
   "source": [
    "# apply detector(or filter) to input data\n",
    "ypred = model.predict(data)\n",
    "print(ypred)\n",
    "print(ypred.shape)"
   ]
  },
  {
   "cell_type": "markdown",
   "metadata": {
    "colab_type": "text",
    "id": "qUOmVpHcpb00"
   },
   "source": [
    "# 2D Convolutional Layer\n",
    "input dimension : [samples, columns, rows, channels]"
   ]
  },
  {
   "cell_type": "code",
   "execution_count": 64,
   "metadata": {
    "colab": {},
    "colab_type": "code",
    "id": "6W4dshdQpeX7"
   },
   "outputs": [],
   "source": [
    "from keras.layers import Conv2D"
   ]
  },
  {
   "cell_type": "code",
   "execution_count": 65,
   "metadata": {
    "colab": {
     "base_uri": "https://localhost:8080/",
     "height": 52
    },
    "colab_type": "code",
    "id": "JR420ypop8VZ",
    "outputId": "6c7772bf-5c3d-423a-93a6-fe38c491ef2c"
   },
   "outputs": [
    {
     "name": "stdout",
     "output_type": "stream",
     "text": [
      "(8, 8)\n",
      "(1, 8, 8, 1)\n"
     ]
    }
   ],
   "source": [
    "# define input data\n",
    "data = [[0, 0, 0, 1, 1, 0, 0, 0],\n",
    "\t\t[0, 0, 0, 1, 1, 0, 0, 0],\n",
    "\t\t[0, 0, 0, 1, 1, 0, 0, 0],\n",
    "\t\t[0, 0, 0, 1, 1, 0, 0, 0],\n",
    "\t\t[0, 0, 0, 1, 1, 0, 0, 0],\n",
    "\t\t[0, 0, 0, 1, 1, 0, 0, 0],\n",
    "\t\t[0, 0, 0, 1, 1, 0, 0, 0],\n",
    "\t\t[0, 0, 0, 1, 1, 0, 0, 0]]\n",
    "data = np.asarray(data)\n",
    "print(data.shape)\n",
    "\n",
    "# reshape to be Conv2D input (sample, y, x, channel)\n",
    "data = data.reshape(1, data.shape[0], data.shape[1], 1)\n",
    "print(data.shape)"
   ]
  },
  {
   "cell_type": "code",
   "execution_count": 66,
   "metadata": {
    "colab": {
     "base_uri": "https://localhost:8080/",
     "height": 230
    },
    "colab_type": "code",
    "id": "v-p-fC_-qXNY",
    "outputId": "381baa97-8a2c-49f2-e1ed-722656764ffa"
   },
   "outputs": [
    {
     "name": "stdout",
     "output_type": "stream",
     "text": [
      "input shape :  (None, 8, 8, 1)\n",
      "Model: \"sequential_13\"\n",
      "_________________________________________________________________\n",
      "Layer (type)                 Output Shape              Param #   \n",
      "=================================================================\n",
      "conv2d (Conv2D)              (None, 6, 6, 1)           10        \n",
      "=================================================================\n",
      "Total params: 10\n",
      "Trainable params: 10\n",
      "Non-trainable params: 0\n",
      "_________________________________________________________________\n",
      "None\n"
     ]
    }
   ],
   "source": [
    "# create model\n",
    "model = Sequential()\n",
    "model.add(Conv2D(filters=1, kernel_size=(3,3), input_shape=(8,8,1)))\n",
    "print('input shape : ',model.input_shape)\n",
    "print(model.summary())"
   ]
  },
  {
   "cell_type": "code",
   "execution_count": 69,
   "metadata": {
    "colab": {
     "base_uri": "https://localhost:8080/",
     "height": 425
    },
    "colab_type": "code",
    "id": "RXmhw0UBrTsE",
    "outputId": "597a4b3c-31e9-4550-8154-9cbc9eb6603a"
   },
   "outputs": [
    {
     "name": "stdout",
     "output_type": "stream",
     "text": [
      "weights shape :  (3, 3, 1, 1)\n",
      "[[[[ 0.2421692 ]]\n",
      "\n",
      "  [[-0.19744855]]\n",
      "\n",
      "  [[-0.0276081 ]]]\n",
      "\n",
      "\n",
      " [[[ 0.27441698]]\n",
      "\n",
      "  [[ 0.1685344 ]]\n",
      "\n",
      "  [[ 0.48070657]]]\n",
      "\n",
      "\n",
      " [[[ 0.00308228]]\n",
      "\n",
      "  [[-0.4776503 ]]\n",
      "\n",
      "  [[-0.38169363]]]]\n",
      "\n",
      "bias shape :  (1,)\n",
      "[0.]\n"
     ]
    }
   ],
   "source": [
    "# model initial weights and bias\n",
    "print('weights shape : ',np.asarray(model.get_weights()[0]).shape)\n",
    "print(np.asarray(model.get_weights()[0]))\n",
    "\n",
    "print('\\nbias shape : ',np.asarray(model.get_weights()[1]).shape)\n",
    "print(np.asarray(model.get_weights()[1]))\n"
   ]
  },
  {
   "cell_type": "code",
   "execution_count": 70,
   "metadata": {
    "colab": {
     "base_uri": "https://localhost:8080/",
     "height": 34
    },
    "colab_type": "code",
    "id": "1J2XE--fquec",
    "outputId": "8f401528-a026-4333-bf43-2060448e1593"
   },
   "outputs": [
    {
     "name": "stdout",
     "output_type": "stream",
     "text": [
      "(3, 3, 1, 1)\n"
     ]
    }
   ],
   "source": [
    "# define a vertical line detector (shape : (3,3,1,1))\n",
    "detector = [[[[0]],[[1]],[[0]]],\n",
    "            [[[0]],[[1]],[[0]]],\n",
    "            [[[0]],[[1]],[[0]]]]\n",
    "print(np.asarray(detector).shape)\n",
    "\n",
    "# combine with bias\n",
    "detector = [np.asarray(detector), np.asarray([0.0])]"
   ]
  },
  {
   "cell_type": "code",
   "execution_count": 71,
   "metadata": {
    "colab": {
     "base_uri": "https://localhost:8080/",
     "height": 354
    },
    "colab_type": "code",
    "id": "irhW4BWGs4qS",
    "outputId": "5d6202c8-3b45-4007-b6ab-0b211ef9294d"
   },
   "outputs": [
    {
     "data": {
      "text/plain": [
       "[array([[[[0.]],\n",
       " \n",
       "         [[1.]],\n",
       " \n",
       "         [[0.]]],\n",
       " \n",
       " \n",
       "        [[[0.]],\n",
       " \n",
       "         [[1.]],\n",
       " \n",
       "         [[0.]]],\n",
       " \n",
       " \n",
       "        [[[0.]],\n",
       " \n",
       "         [[1.]],\n",
       " \n",
       "         [[0.]]]], dtype=float32),\n",
       " array([0.], dtype=float32)]"
      ]
     },
     "execution_count": 71,
     "metadata": {},
     "output_type": "execute_result"
    }
   ],
   "source": [
    "# store detector as weights of the model\n",
    "model.set_weights(detector)\n",
    "model.get_weights()"
   ]
  },
  {
   "cell_type": "code",
   "execution_count": 72,
   "metadata": {
    "colab": {
     "base_uri": "https://localhost:8080/",
     "height": 763
    },
    "colab_type": "code",
    "id": "KZAIntYqtD-P",
    "outputId": "97180856-c5ae-4b3a-990d-ebfad774e55b"
   },
   "outputs": [
    {
     "name": "stdout",
     "output_type": "stream",
     "text": [
      "ypred shape :  (1, 6, 6, 1)\n",
      "[[[[0.]\n",
      "   [0.]\n",
      "   [3.]\n",
      "   [3.]\n",
      "   [0.]\n",
      "   [0.]]\n",
      "\n",
      "  [[0.]\n",
      "   [0.]\n",
      "   [3.]\n",
      "   [3.]\n",
      "   [0.]\n",
      "   [0.]]\n",
      "\n",
      "  [[0.]\n",
      "   [0.]\n",
      "   [3.]\n",
      "   [3.]\n",
      "   [0.]\n",
      "   [0.]]\n",
      "\n",
      "  [[0.]\n",
      "   [0.]\n",
      "   [3.]\n",
      "   [3.]\n",
      "   [0.]\n",
      "   [0.]]\n",
      "\n",
      "  [[0.]\n",
      "   [0.]\n",
      "   [3.]\n",
      "   [3.]\n",
      "   [0.]\n",
      "   [0.]]\n",
      "\n",
      "  [[0.]\n",
      "   [0.]\n",
      "   [3.]\n",
      "   [3.]\n",
      "   [0.]\n",
      "   [0.]]]]\n"
     ]
    }
   ],
   "source": [
    "# apply detector (or filter) to input data\n",
    "ypred = model.predict(data)\n",
    "print('ypred shape : ',ypred.shape)\n",
    "print(ypred)"
   ]
  },
  {
   "cell_type": "code",
   "execution_count": 97,
   "metadata": {},
   "outputs": [
    {
     "data": {
      "image/png": "[encoded data removed]",
      "text/plain": [
       "<Figure size 432x288 with 2 Axes>"
      ]
     },
     "metadata": {
      "needs_background": "light"
     },
     "output_type": "display_data"
    }
   ],
   "source": [
    "plt.subplot(1,3,1)\n",
    "plt.imshow(data[0])\n",
    "plt.title('X')\n",
    "\n",
    "plt.subplot(1,3,3)\n",
    "plt.imshow(ypred[0])\n",
    "plt.title('ypred')\n",
    "\n",
    "plt.show()"
   ]
  },
  {
   "cell_type": "markdown",
   "metadata": {
    "colab_type": "text",
    "id": "UwobBAqTtmWB"
   },
   "source": [
    "# Convolutional Layer Output Dimension\n",
    "input dim : [samples, rows, columns, channels]  \n",
    "output dim : [samples, rows, columns, filters]  \n",
    "*   output rows and columns get smaller because of kernel_size (Border Effect) \n",
    "*   output channels get larger because of filter number"
   ]
  },
  {
   "cell_type": "code",
   "execution_count": 83,
   "metadata": {
    "colab": {
     "base_uri": "https://localhost:8080/",
     "height": 34
    },
    "colab_type": "code",
    "id": "TqOEmLRBusP-",
    "outputId": "419c6c49-786f-408c-f62d-76292c823e72"
   },
   "outputs": [
    {
     "name": "stdout",
     "output_type": "stream",
     "text": [
      "(1, 8, 8, 1)\n"
     ]
    }
   ],
   "source": [
    "print(data.shape)"
   ]
  },
  {
   "cell_type": "code",
   "execution_count": 84,
   "metadata": {
    "colab": {
     "base_uri": "https://localhost:8080/",
     "height": 212
    },
    "colab_type": "code",
    "id": "o7l4dXuduwj-",
    "outputId": "e09e4225-e022-4330-d285-e94cedd76168"
   },
   "outputs": [
    {
     "name": "stdout",
     "output_type": "stream",
     "text": [
      "input shape :  (None, 8, 8, 1)\n",
      "Model: \"sequential_14\"\n",
      "_________________________________________________________________\n",
      "Layer (type)                 Output Shape              Param #   \n",
      "=================================================================\n",
      "conv2d_1 (Conv2D)            (None, 6, 6, 2)           20        \n",
      "=================================================================\n",
      "Total params: 20\n",
      "Trainable params: 20\n",
      "Non-trainable params: 0\n",
      "_________________________________________________________________\n"
     ]
    }
   ],
   "source": [
    "# create model\n",
    "model = Sequential()\n",
    "model.add(Conv2D(filters=2, kernel_size=(3,3), input_shape=(8,8,1)))\n",
    "print('input shape : ', model.input_shape)\n",
    "model.summary()"
   ]
  },
  {
   "cell_type": "markdown",
   "metadata": {
    "colab_type": "text",
    "id": "OsomODfzvfhD"
   },
   "source": [
    "## Fix Border Effect Problem with Padding"
   ]
  },
  {
   "cell_type": "code",
   "execution_count": 85,
   "metadata": {
    "colab": {
     "base_uri": "https://localhost:8080/",
     "height": 212
    },
    "colab_type": "code",
    "id": "gPvJT3tmvi3C",
    "outputId": "447031b0-7a45-4097-d2c7-8e088ceb90d4"
   },
   "outputs": [
    {
     "name": "stdout",
     "output_type": "stream",
     "text": [
      "input shape :  (None, 8, 8, 1)\n",
      "Model: \"sequential_15\"\n",
      "_________________________________________________________________\n",
      "Layer (type)                 Output Shape              Param #   \n",
      "=================================================================\n",
      "conv2d_2 (Conv2D)            (None, 8, 8, 2)           20        \n",
      "=================================================================\n",
      "Total params: 20\n",
      "Trainable params: 20\n",
      "Non-trainable params: 0\n",
      "_________________________________________________________________\n"
     ]
    }
   ],
   "source": [
    "# create model\n",
    "model = Sequential()\n",
    "model.add(Conv2D(filters=2, kernel_size=(3,3), input_shape=(8,8,1), padding='same'))\n",
    "print('input shape : ', model.input_shape)\n",
    "model.summary()"
   ]
  },
  {
   "cell_type": "markdown",
   "metadata": {
    "colab_type": "text",
    "id": "3nzYuc_SvzUR"
   },
   "source": [
    "## Down sampling with Stride"
   ]
  },
  {
   "cell_type": "code",
   "execution_count": 86,
   "metadata": {
    "colab": {
     "base_uri": "https://localhost:8080/",
     "height": 212
    },
    "colab_type": "code",
    "id": "nASU4uLSv1aI",
    "outputId": "2f4a06c3-f2af-4908-fd1d-8a594944435a"
   },
   "outputs": [
    {
     "name": "stdout",
     "output_type": "stream",
     "text": [
      "input shape :  (None, 8, 8, 1)\n",
      "Model: \"sequential_16\"\n",
      "_________________________________________________________________\n",
      "Layer (type)                 Output Shape              Param #   \n",
      "=================================================================\n",
      "conv2d_3 (Conv2D)            (None, 4, 4, 2)           20        \n",
      "=================================================================\n",
      "Total params: 20\n",
      "Trainable params: 20\n",
      "Non-trainable params: 0\n",
      "_________________________________________________________________\n"
     ]
    }
   ],
   "source": [
    "# create model\n",
    "model = Sequential()\n",
    "model.add(Conv2D(filters=2, kernel_size=(3,3), strides=(2,2), input_shape=(8,8,1), padding='same'))\n",
    "print('input shape : ', model.input_shape)\n",
    "model.summary()"
   ]
  },
  {
   "cell_type": "markdown",
   "metadata": {
    "colab_type": "text",
    "id": "lbrtV_tGycRV"
   },
   "source": [
    "## Down Sampling with Pooling Layer\n",
    "More robust and common approach to summarize the features detected in the input.  \n",
    "(the model's invariance to local translation)  \n",
    " \n",
    "2 types of pooling layer \n",
    "1.   Average Pooling\n",
    "2.   Maximum Pooling"
   ]
  },
  {
   "cell_type": "markdown",
   "metadata": {
    "colab_type": "text",
    "id": "djWT6FAz1aHX"
   },
   "source": [
    "### Simple model : detecting vertical line"
   ]
  },
  {
   "cell_type": "code",
   "execution_count": 87,
   "metadata": {
    "colab": {
     "base_uri": "https://localhost:8080/",
     "height": 34
    },
    "colab_type": "code",
    "id": "Z0AtRWsCzt0K",
    "outputId": "98417eb8-b0d4-45b6-e6c4-1a7141e25e89"
   },
   "outputs": [
    {
     "name": "stdout",
     "output_type": "stream",
     "text": [
      "(1, 8, 8, 1)\n"
     ]
    }
   ],
   "source": [
    "# define input data\n",
    "data = [[0, 0, 0, 1, 1, 0, 0, 0],\n",
    "\t\t[0, 0, 0, 1, 1, 0, 0, 0],\n",
    "\t\t[0, 0, 0, 1, 1, 0, 0, 0],\n",
    "\t\t[0, 0, 0, 1, 1, 0, 0, 0],\n",
    "\t\t[0, 0, 0, 1, 1, 0, 0, 0],\n",
    "\t\t[0, 0, 0, 1, 1, 0, 0, 0],\n",
    "\t\t[0, 0, 0, 1, 1, 0, 0, 0],\n",
    "\t\t[0, 0, 0, 1, 1, 0, 0, 0]]\n",
    "data = np.asarray(data)\n",
    "\n",
    "# reshape to be Conv2D input\n",
    "data = data.reshape(1, data.shape[0], data.shape[1], 1)\n",
    "print(data.shape)"
   ]
  },
  {
   "cell_type": "code",
   "execution_count": 88,
   "metadata": {
    "colab": {
     "base_uri": "https://localhost:8080/",
     "height": 230
    },
    "colab_type": "code",
    "id": "rqneXtoa0Oba",
    "outputId": "d30955a4-e2d7-40af-e276-7cfdadeb4a7f"
   },
   "outputs": [
    {
     "name": "stdout",
     "output_type": "stream",
     "text": [
      "input shape :  (None, 8, 8, 1)\n",
      "Model: \"sequential_17\"\n",
      "_________________________________________________________________\n",
      "Layer (type)                 Output Shape              Param #   \n",
      "=================================================================\n",
      "conv2d_4 (Conv2D)            (None, 6, 6, 1)           10        \n",
      "=================================================================\n",
      "Total params: 10\n",
      "Trainable params: 10\n",
      "Non-trainable params: 0\n",
      "_________________________________________________________________\n",
      "None\n"
     ]
    }
   ],
   "source": [
    "# create model\n",
    "model = Sequential()\n",
    "model.add(Conv2D(filters=1, kernel_size=(3,3), activation='relu',input_shape=(8,8,1)))\n",
    "print('input shape : ',model.input_shape)\n",
    "print(model.summary())"
   ]
  },
  {
   "cell_type": "code",
   "execution_count": 89,
   "metadata": {
    "colab": {},
    "colab_type": "code",
    "id": "_ev2R2ao0ibn"
   },
   "outputs": [],
   "source": [
    "# define a vertical line detector (shape : (3,3,1,1))\n",
    "detector = [[[[0]],[[1]],[[0]]],\n",
    "            [[[0]],[[1]],[[0]]],\n",
    "            [[[0]],[[1]],[[0]]]]\n",
    "\n",
    "# combine with bias\n",
    "detector = [np.asarray(detector), np.asarray([0.0])]\n",
    "\n",
    "# set model weights\n",
    "model.set_weights(detector)"
   ]
  },
  {
   "cell_type": "code",
   "execution_count": 90,
   "metadata": {
    "colab": {
     "base_uri": "https://localhost:8080/",
     "height": 123
    },
    "colab_type": "code",
    "id": "zEF2ZEqv0sE4",
    "outputId": "fa54d9a5-a52a-4a21-f966-3c57a0328f20"
   },
   "outputs": [
    {
     "name": "stdout",
     "output_type": "stream",
     "text": [
      "[0.0, 0.0, 3.0, 3.0, 0.0, 0.0]\n",
      "[0.0, 0.0, 3.0, 3.0, 0.0, 0.0]\n",
      "[0.0, 0.0, 3.0, 3.0, 0.0, 0.0]\n",
      "[0.0, 0.0, 3.0, 3.0, 0.0, 0.0]\n",
      "[0.0, 0.0, 3.0, 3.0, 0.0, 0.0]\n",
      "[0.0, 0.0, 3.0, 3.0, 0.0, 0.0]\n"
     ]
    }
   ],
   "source": [
    "ypred = model.predict(data)\n",
    "\n",
    "# enumerate rows\n",
    "for r in range(ypred.shape[1]):\n",
    "  print([ypred[0,r,c,0] for c in range(ypred.shape[2])])"
   ]
  },
  {
   "cell_type": "markdown",
   "metadata": {
    "colab_type": "text",
    "id": "ihsZQHsV1e2t"
   },
   "source": [
    "### Average Pooling Layer added"
   ]
  },
  {
   "cell_type": "code",
   "execution_count": 91,
   "metadata": {
    "colab": {
     "base_uri": "https://localhost:8080/",
     "height": 265
    },
    "colab_type": "code",
    "id": "KGmp2M6A1Xau",
    "outputId": "b3a27a8c-0b40-434a-f45a-b7e1aeb05c14"
   },
   "outputs": [
    {
     "name": "stdout",
     "output_type": "stream",
     "text": [
      "input shape :  (None, 8, 8, 1)\n",
      "Model: \"sequential_18\"\n",
      "_________________________________________________________________\n",
      "Layer (type)                 Output Shape              Param #   \n",
      "=================================================================\n",
      "conv2d_5 (Conv2D)            (None, 6, 6, 1)           10        \n",
      "_________________________________________________________________\n",
      "average_pooling2d (AveragePo (None, 3, 3, 1)           0         \n",
      "=================================================================\n",
      "Total params: 10\n",
      "Trainable params: 10\n",
      "Non-trainable params: 0\n",
      "_________________________________________________________________\n",
      "None\n"
     ]
    }
   ],
   "source": [
    "from keras.layers import AveragePooling2D\n",
    "\n",
    "# create model\n",
    "model = Sequential()\n",
    "model.add(Conv2D(filters=1, kernel_size=(3,3), activation='relu',input_shape=(8,8,1)))\n",
    "model.add(AveragePooling2D())\n",
    "print('input shape : ',model.input_shape)\n",
    "print(model.summary())"
   ]
  },
  {
   "cell_type": "markdown",
   "metadata": {
    "colab_type": "text",
    "id": "XCAO3b6y2RGU"
   },
   "source": [
    "Note : the output size is halved"
   ]
  },
  {
   "cell_type": "code",
   "execution_count": 92,
   "metadata": {
    "colab": {
     "base_uri": "https://localhost:8080/",
     "height": 70
    },
    "colab_type": "code",
    "id": "wApHQqWm14-k",
    "outputId": "4e62748a-bb33-4d71-d721-5dc7a62150a3"
   },
   "outputs": [
    {
     "name": "stdout",
     "output_type": "stream",
     "text": [
      "WARNING:tensorflow:5 out of the last 5 calls to <function Model.make_predict_function.<locals>.predict_function at 0x7faf8564a310> triggered tf.function retracing. Tracing is expensive and the excessive number of tracings could be due to (1) creating @tf.function repeatedly in a loop, (2) passing tensors with different shapes, (3) passing Python objects instead of tensors. For (1), please define your @tf.function outside of the loop. For (2), @tf.function has experimental_relax_shapes=True option that relaxes argument shapes that can avoid unnecessary retracing. For (3), please refer to https://www.tensorflow.org/guide/function#controlling_retracing and https://www.tensorflow.org/api_docs/python/tf/function for  more details.\n",
      "[0.0, 3.0, 0.0]\n",
      "[0.0, 3.0, 0.0]\n",
      "[0.0, 3.0, 0.0]\n"
     ]
    }
   ],
   "source": [
    "# set the same model weights\n",
    "model.set_weights(detector)\n",
    "\n",
    "# apply filter to input data\n",
    "ypred = model.predict(data)\n",
    "\n",
    "# enumerate rows\n",
    "for r in range(ypred.shape[1]):\n",
    "  print([ypred[0,r,c,0] for c in range(ypred.shape[2])])"
   ]
  },
  {
   "cell_type": "code",
   "execution_count": 96,
   "metadata": {},
   "outputs": [
    {
     "data": {
      "image/png": "[encoded data removed]",
      "text/plain": [
       "<Figure size 432x288 with 2 Axes>"
      ]
     },
     "metadata": {
      "needs_background": "light"
     },
     "output_type": "display_data"
    }
   ],
   "source": [
    "plt.subplot(1,3,1)\n",
    "plt.imshow(data[0])\n",
    "plt.title('X')\n",
    "\n",
    "plt.subplot(1,3,3)\n",
    "plt.imshow(ypred[0])\n",
    "plt.title('ypred')\n",
    "\n",
    "plt.show()"
   ]
  },
  {
   "cell_type": "markdown",
   "metadata": {
    "colab_type": "text",
    "id": "NvxOVW_h2W--"
   },
   "source": [
    "### Max Pooling Layer"
   ]
  },
  {
   "cell_type": "code",
   "execution_count": 98,
   "metadata": {
    "colab": {
     "base_uri": "https://localhost:8080/",
     "height": 265
    },
    "colab_type": "code",
    "id": "Ee4pKb_f2ZGi",
    "outputId": "53f8dc94-79c6-4176-9af9-1fda87c240b9"
   },
   "outputs": [
    {
     "name": "stdout",
     "output_type": "stream",
     "text": [
      "input shape :  (None, 8, 8, 1)\n",
      "Model: \"sequential_19\"\n",
      "_________________________________________________________________\n",
      "Layer (type)                 Output Shape              Param #   \n",
      "=================================================================\n",
      "conv2d_6 (Conv2D)            (None, 6, 6, 1)           10        \n",
      "_________________________________________________________________\n",
      "max_pooling2d (MaxPooling2D) (None, 3, 3, 1)           0         \n",
      "=================================================================\n",
      "Total params: 10\n",
      "Trainable params: 10\n",
      "Non-trainable params: 0\n",
      "_________________________________________________________________\n",
      "None\n"
     ]
    }
   ],
   "source": [
    "from keras.layers import MaxPooling2D\n",
    "\n",
    "# create model\n",
    "model = Sequential()\n",
    "model.add(Conv2D(filters=1, kernel_size=(3,3), activation='relu',input_shape=(8,8,1)))\n",
    "model.add(MaxPooling2D())\n",
    "print('input shape : ',model.input_shape)\n",
    "print(model.summary())"
   ]
  },
  {
   "cell_type": "code",
   "execution_count": 99,
   "metadata": {
    "colab": {
     "base_uri": "https://localhost:8080/",
     "height": 107
    },
    "colab_type": "code",
    "id": "kYcADn4C2mcA",
    "outputId": "28fada84-8f6b-44d6-91df-03e869ff3f3c"
   },
   "outputs": [
    {
     "name": "stdout",
     "output_type": "stream",
     "text": [
      "WARNING:tensorflow:6 out of the last 6 calls to <function Model.make_predict_function.<locals>.predict_function at 0x7faf8764a1f0> triggered tf.function retracing. Tracing is expensive and the excessive number of tracings could be due to (1) creating @tf.function repeatedly in a loop, (2) passing tensors with different shapes, (3) passing Python objects instead of tensors. For (1), please define your @tf.function outside of the loop. For (2), @tf.function has experimental_relax_shapes=True option that relaxes argument shapes that can avoid unnecessary retracing. For (3), please refer to https://www.tensorflow.org/guide/function#controlling_retracing and https://www.tensorflow.org/api_docs/python/tf/function for  more details.\n",
      "[0.0, 3.0, 0.0]\n",
      "[0.0, 3.0, 0.0]\n",
      "[0.0, 3.0, 0.0]\n"
     ]
    }
   ],
   "source": [
    "# set the same model weights\n",
    "model.set_weights(detector)\n",
    "\n",
    "# apply filter to input data\n",
    "ypred = model.predict(data)\n",
    "\n",
    "# enumerate rows\n",
    "for r in range(ypred.shape[1]):\n",
    "  print([ypred[0,r,c,0] for c in range(ypred.shape[2])])"
   ]
  },
  {
   "cell_type": "code",
   "execution_count": 101,
   "metadata": {},
   "outputs": [
    {
     "data": {
      "image/png": "[encoded data removed]",
      "text/plain": [
       "<Figure size 432x288 with 2 Axes>"
      ]
     },
     "metadata": {
      "needs_background": "light"
     },
     "output_type": "display_data"
    }
   ],
   "source": [
    "plt.subplot(1,3,1)\n",
    "plt.imshow(data[0])\n",
    "plt.title('X')\n",
    "\n",
    "plt.subplot(1,3,3)\n",
    "plt.imshow(ypred[0])\n",
    "plt.title('ypred')\n",
    "\n",
    "plt.show()"
   ]
  },
  {
   "cell_type": "markdown",
   "metadata": {
    "colab_type": "text",
    "id": "u9bV49442sYP"
   },
   "source": [
    "# Global Pooling Layers\n",
    "*   downsampling the entire feature map to a single value\n",
    "*   aggressively summarize the presence of a feature in an image"
   ]
  },
  {
   "cell_type": "markdown",
   "metadata": {
    "colab_type": "text",
    "id": "hyLLFvvi3brU"
   },
   "source": [
    "## Global Average Pooling Layer"
   ]
  },
  {
   "cell_type": "code",
   "execution_count": 102,
   "metadata": {
    "colab": {
     "base_uri": "https://localhost:8080/",
     "height": 265
    },
    "colab_type": "code",
    "id": "JaXrwEMG27US",
    "outputId": "9203ef3d-fae4-452d-9063-fe941cd68c17"
   },
   "outputs": [
    {
     "name": "stdout",
     "output_type": "stream",
     "text": [
      "input shape :  (None, 8, 8, 1)\n",
      "Model: \"sequential_20\"\n",
      "_________________________________________________________________\n",
      "Layer (type)                 Output Shape              Param #   \n",
      "=================================================================\n",
      "conv2d_7 (Conv2D)            (None, 6, 6, 1)           10        \n",
      "_________________________________________________________________\n",
      "global_average_pooling2d (Gl (None, 1)                 0         \n",
      "=================================================================\n",
      "Total params: 10\n",
      "Trainable params: 10\n",
      "Non-trainable params: 0\n",
      "_________________________________________________________________\n",
      "None\n"
     ]
    }
   ],
   "source": [
    "from keras.layers import GlobalAveragePooling2D\n",
    "\n",
    "# create model\n",
    "model = Sequential()\n",
    "model.add(Conv2D(filters=1, kernel_size=(3,3), activation='relu',input_shape=(8,8,1)))\n",
    "model.add(GlobalAveragePooling2D())\n",
    "print('input shape : ',model.input_shape)\n",
    "print(model.summary())"
   ]
  },
  {
   "cell_type": "code",
   "execution_count": 103,
   "metadata": {
    "colab": {
     "base_uri": "https://localhost:8080/",
     "height": 34
    },
    "colab_type": "code",
    "id": "4zQistEg3KFI",
    "outputId": "1cbfc081-9c44-427a-a08b-6e82433af67d"
   },
   "outputs": [
    {
     "name": "stdout",
     "output_type": "stream",
     "text": [
      "[[1.]]\n"
     ]
    }
   ],
   "source": [
    "# set the same model weights\n",
    "model.set_weights(detector)\n",
    "\n",
    "# apply filter to input data\n",
    "ypred = model.predict(data)\n",
    "\n",
    "print(ypred)"
   ]
  },
  {
   "cell_type": "markdown",
   "metadata": {
    "colab_type": "text",
    "id": "ii4FBDIF3fGe"
   },
   "source": [
    "## Global Max Pooling Layer"
   ]
  },
  {
   "cell_type": "code",
   "execution_count": 106,
   "metadata": {
    "colab": {
     "base_uri": "https://localhost:8080/",
     "height": 265
    },
    "colab_type": "code",
    "id": "xpHGmUH03hN2",
    "outputId": "7a03c743-6fa8-4578-c6f1-71f101f6c70f"
   },
   "outputs": [
    {
     "name": "stdout",
     "output_type": "stream",
     "text": [
      "input shape :  (None, 8, 8, 1)\n",
      "Model: \"sequential_21\"\n",
      "_________________________________________________________________\n",
      "Layer (type)                 Output Shape              Param #   \n",
      "=================================================================\n",
      "conv2d_8 (Conv2D)            (None, 6, 6, 1)           10        \n",
      "_________________________________________________________________\n",
      "global_max_pooling2d (Global (None, 1)                 0         \n",
      "=================================================================\n",
      "Total params: 10\n",
      "Trainable params: 10\n",
      "Non-trainable params: 0\n",
      "_________________________________________________________________\n",
      "None\n"
     ]
    }
   ],
   "source": [
    "from keras.layers import GlobalMaxPooling2D\n",
    "\n",
    "# create model\n",
    "model = Sequential()\n",
    "model.add(Conv2D(filters=1, kernel_size=(3,3), activation='relu',input_shape=(8,8,1)))\n",
    "model.add(GlobalMaxPooling2D())\n",
    "print('input shape : ',model.input_shape)\n",
    "print(model.summary())"
   ]
  },
  {
   "cell_type": "code",
   "execution_count": 107,
   "metadata": {
    "colab": {
     "base_uri": "https://localhost:8080/",
     "height": 72
    },
    "colab_type": "code",
    "id": "JFD9uTQK3qPn",
    "outputId": "494390f2-bde5-4e65-b91a-7c4a274962dc"
   },
   "outputs": [
    {
     "name": "stdout",
     "output_type": "stream",
     "text": [
      "[[3.]]\n"
     ]
    }
   ],
   "source": [
    "# set the same model weights\n",
    "model.set_weights(detector)\n",
    "\n",
    "# apply filter to input data\n",
    "ypred = model.predict(data)\n",
    "\n",
    "print(ypred)"
   ]
  },
  {
   "cell_type": "markdown",
   "metadata": {
    "colab_type": "text",
    "id": "qYlcHYsN7QuP"
   },
   "source": [
    "# Manage Model Complexity with 1x1 Convolutional Layer\n",
    "usage\n",
    "*   create projection layer (channel-wise pooling)\n",
    "*   dimensionality reduction \n",
    "*   downsample the depth or number of feature maps"
   ]
  },
  {
   "cell_type": "code",
   "execution_count": 113,
   "metadata": {
    "colab": {
     "base_uri": "https://localhost:8080/",
     "height": 212
    },
    "colab_type": "code",
    "id": "_ynzZNte7WHx",
    "outputId": "419f9f82-82b9-4061-8d20-bb4c75cb2e30"
   },
   "outputs": [
    {
     "name": "stdout",
     "output_type": "stream",
     "text": [
      "input shape :  (None, 256, 256, 3)\n",
      "Model: \"sequential_22\"\n",
      "_________________________________________________________________\n",
      "Layer (type)                 Output Shape              Param #   \n",
      "=================================================================\n",
      "conv2d_9 (Conv2D)            (None, 256, 256, 512)     14336     \n",
      "=================================================================\n",
      "Total params: 14,336\n",
      "Trainable params: 14,336\n",
      "Non-trainable params: 0\n",
      "_________________________________________________________________\n"
     ]
    }
   ],
   "source": [
    "# create starter model\n",
    "model = Sequential()\n",
    "model.add(Conv2D(512, (3,3), padding='same', activation='relu', input_shape=(256,256,3)))\n",
    "print('input shape : ', model.input_shape)\n",
    "model.summary()"
   ]
  },
  {
   "cell_type": "markdown",
   "metadata": {
    "colab_type": "text",
    "id": "a25lyE4n9ZDQ"
   },
   "source": [
    "## Projecting Feature Maps / Channel-wise pooling"
   ]
  },
  {
   "cell_type": "code",
   "execution_count": 114,
   "metadata": {
    "colab": {
     "base_uri": "https://localhost:8080/",
     "height": 247
    },
    "colab_type": "code",
    "id": "rvyW1hUj9Vu7",
    "outputId": "fef0ba2e-7c74-4462-d7e1-f1a973fb669f"
   },
   "outputs": [
    {
     "name": "stdout",
     "output_type": "stream",
     "text": [
      "input shape :  (None, 256, 256, 3)\n",
      "Model: \"sequential_23\"\n",
      "_________________________________________________________________\n",
      "Layer (type)                 Output Shape              Param #   \n",
      "=================================================================\n",
      "conv2d_10 (Conv2D)           (None, 256, 256, 512)     14336     \n",
      "_________________________________________________________________\n",
      "conv2d_11 (Conv2D)           (None, 256, 256, 512)     262656    \n",
      "=================================================================\n",
      "Total params: 276,992\n",
      "Trainable params: 276,992\n",
      "Non-trainable params: 0\n",
      "_________________________________________________________________\n"
     ]
    }
   ],
   "source": [
    "model = Sequential()\n",
    "model.add(Conv2D(512, (3,3), padding='same', activation='relu', input_shape=(256,256,3)))\n",
    "model.add(Conv2D(512, (1,1), activation='relu'))\n",
    "print('input shape : ', model.input_shape)\n",
    "model.summary()"
   ]
  },
  {
   "cell_type": "markdown",
   "metadata": {
    "colab_type": "text",
    "id": "2Dhkryg69_8e"
   },
   "source": [
    "## Decreasing Feature Maps"
   ]
  },
  {
   "cell_type": "code",
   "execution_count": 115,
   "metadata": {
    "colab": {
     "base_uri": "https://localhost:8080/",
     "height": 247
    },
    "colab_type": "code",
    "id": "LoAikrwL-CZ2",
    "outputId": "1bfe2468-d6a1-4993-a3c9-b44024fe83eb"
   },
   "outputs": [
    {
     "name": "stdout",
     "output_type": "stream",
     "text": [
      "input shape :  (None, 256, 256, 3)\n",
      "Model: \"sequential_24\"\n",
      "_________________________________________________________________\n",
      "Layer (type)                 Output Shape              Param #   \n",
      "=================================================================\n",
      "conv2d_12 (Conv2D)           (None, 256, 256, 512)     14336     \n",
      "_________________________________________________________________\n",
      "conv2d_13 (Conv2D)           (None, 256, 256, 64)      32832     \n",
      "=================================================================\n",
      "Total params: 47,168\n",
      "Trainable params: 47,168\n",
      "Non-trainable params: 0\n",
      "_________________________________________________________________\n"
     ]
    }
   ],
   "source": [
    "model = Sequential()\n",
    "model.add(Conv2D(512, (3,3), padding='same', activation='relu', input_shape=(256,256,3)))\n",
    "model.add(Conv2D(64, (1,1), activation='relu'))\n",
    "print('input shape : ', model.input_shape)\n",
    "model.summary()"
   ]
  },
  {
   "cell_type": "markdown",
   "metadata": {
    "colab_type": "text",
    "id": "vKo4bHux-KG8"
   },
   "source": [
    "## Increasing Feature Maps"
   ]
  },
  {
   "cell_type": "code",
   "execution_count": 116,
   "metadata": {
    "colab": {
     "base_uri": "https://localhost:8080/",
     "height": 247
    },
    "colab_type": "code",
    "id": "oOGxHRz1-MKG",
    "outputId": "02d287aa-326a-4f40-dad8-5c7feeee2418"
   },
   "outputs": [
    {
     "name": "stdout",
     "output_type": "stream",
     "text": [
      "input shape :  (None, 256, 256, 3)\n",
      "Model: \"sequential_25\"\n",
      "_________________________________________________________________\n",
      "Layer (type)                 Output Shape              Param #   \n",
      "=================================================================\n",
      "conv2d_14 (Conv2D)           (None, 256, 256, 512)     14336     \n",
      "_________________________________________________________________\n",
      "conv2d_15 (Conv2D)           (None, 256, 256, 1024)    525312    \n",
      "=================================================================\n",
      "Total params: 539,648\n",
      "Trainable params: 539,648\n",
      "Non-trainable params: 0\n",
      "_________________________________________________________________\n"
     ]
    }
   ],
   "source": [
    "model = Sequential()\n",
    "model.add(Conv2D(512, (3,3), padding='same', activation='relu', input_shape=(256,256,3)))\n",
    "model.add(Conv2D(1024, (1,1), activation='relu'))\n",
    "print('input shape : ', model.input_shape)\n",
    "model.summary()"
   ]
  },
  {
   "cell_type": "markdown",
   "metadata": {
    "colab_type": "text",
    "id": "4JP-4OZH-ZLT"
   },
   "source": [
    "Note : 1x1 Filters are used in Inception model, Residual network"
   ]
  }
 ],
 "metadata": {
  "colab": {
   "authorship_tag": "ABX9TyMy7pK6is1m0CTxsLuhUi0A",
   "include_colab_link": true,
   "name": "CNN_fundamental.ipynb",
   "provenance": []
  },
  "kernelspec": {
   "display_name": "Python 3",
   "language": "python",
   "name": "python3"
  },
  "language_info": {
   "codemirror_mode": {
    "name": "ipython",
    "version": 3
   },
   "file_extension": ".py",
   "mimetype": "text/x-python",
   "name": "python",
   "nbconvert_exporter": "python",
   "pygments_lexer": "ipython3",
   "version": "3.8.8"
  }
 },
 "nbformat": 4,
 "nbformat_minor": 1
}
